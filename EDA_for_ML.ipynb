{
 "cells": [
  {
   "cell_type": "markdown",
   "metadata": {
    "id": "0y1kKmcyJTKC"
   },
   "source": [
    "# ***Exploratory Data Analysis***"
   ]
  },
  {
   "cell_type": "code",
   "execution_count": null,
   "metadata": {
    "id": "4II3xfyfzuqt"
   },
   "outputs": [],
   "source": [
    "#load modules\n",
    "import numpy as np\n",
    "import pandas as pd\n",
    "import scipy.stats as stats\n",
    "import matplotlib.pyplot as plt\n",
    "import seaborn as sns\n",
    "import missingno as msno\n",
    "%matplotlib inline"
   ]
  },
  {
   "cell_type": "code",
   "execution_count": null,
   "metadata": {
    "colab": {
     "base_uri": "https://localhost:8080/",
     "height": 398
    },
    "id": "Zw9jmwLC2FKP",
    "outputId": "f5b72710-2311-4c01-b2d0-5d57afb4141b"
   },
   "outputs": [],
   "source": [
    "#upload data set\n",
    "df = pd.read_csv('./data/AmesHousing.csv')"
   ]
  },
  {
   "cell_type": "markdown",
   "metadata": {
    "id": "zAN9hqb2JimW"
   },
   "source": [
    "## ***Step 1. Inspect Your Data set***"
   ]
  },
  {
   "cell_type": "code",
   "execution_count": null,
   "metadata": {
    "colab": {
     "base_uri": "https://localhost:8080/",
     "height": 306
    },
    "id": "x2CeueLd2NqR",
    "outputId": "499363eb-eb34-48f8-bbe5-260513395454"
   },
   "outputs": [],
   "source": [
    "#inspect dataframe\n",
    "df.head()"
   ]
  },
  {
   "cell_type": "code",
   "execution_count": null,
   "metadata": {
    "colab": {
     "base_uri": "https://localhost:8080/"
    },
    "id": "9IR0vJZPZ5BD",
    "outputId": "f0ab5bd3-333a-4563-f254-73d8708ae9bb"
   },
   "outputs": [],
   "source": [
    "#get number of columns and rows\n",
    "df.shape"
   ]
  },
  {
   "cell_type": "code",
   "execution_count": null,
   "metadata": {
    "colab": {
     "base_uri": "https://localhost:8080/"
    },
    "id": "h3P18K_xIkR5",
    "outputId": "f7324b81-9c31-4db2-c713-bf8ad45a2efd"
   },
   "outputs": [],
   "source": [
    "#look at column names\n",
    "df.columns"
   ]
  },
  {
   "cell_type": "markdown",
   "metadata": {
    "id": "JIRiomWfKJQ0"
   },
   "source": [
    "## ***Step 2. Generate Basic Statisics***"
   ]
  },
  {
   "cell_type": "code",
   "execution_count": null,
   "metadata": {
    "colab": {
     "base_uri": "https://localhost:8080/"
    },
    "id": "lidz61YS2Vns",
    "outputId": "c8b31858-37f3-4a56-8361-43b598dea49a"
   },
   "outputs": [],
   "source": [
    "#inspect number of, types of column, size of dataset\n",
    "df.info()"
   ]
  },
  {
   "cell_type": "code",
   "execution_count": null,
   "metadata": {
    "colab": {
     "base_uri": "https://localhost:8080/",
     "height": 336
    },
    "id": "11z2peDWe2bO",
    "outputId": "29552e01-ddfc-4fb1-d531-52600a92d8e3"
   },
   "outputs": [],
   "source": [
    "#basic descriptive statistics\n",
    "df.describe()"
   ]
  },
  {
   "cell_type": "markdown",
   "metadata": {
    "id": "rdygiLorPlQN"
   },
   "source": [
    "## ***Step 3: Check for Missing Values***"
   ]
  },
  {
   "cell_type": "code",
   "execution_count": null,
   "metadata": {
    "colab": {
     "base_uri": "https://localhost:8080/"
    },
    "id": "MBzTpUQ-O3B3",
    "outputId": "23437a4c-8c1e-43da-d17d-79e5a8535de4"
   },
   "outputs": [],
   "source": [
    "#check for missing values\n",
    "df.isnull().sum().sort_values(ascending=False)[:25]"
   ]
  },
  {
   "cell_type": "code",
   "execution_count": null,
   "metadata": {
    "id": "wpkzcDW2N9sJ"
   },
   "outputs": [],
   "source": [
    "#get percent missing for each column\n",
    "df_miss = df.isnull().sum() * 100 / len(df)"
   ]
  },
  {
   "cell_type": "code",
   "execution_count": null,
   "metadata": {
    "colab": {
     "base_uri": "https://localhost:8080/"
    },
    "id": "rduMW277OaJf",
    "outputId": "b4328b68-7516-46db-d3fe-a3e570021993"
   },
   "outputs": [],
   "source": [
    "#show columns with highest percent missing\n",
    "df_miss.sort_values(ascending=False)[:25]"
   ]
  },
  {
   "cell_type": "code",
   "execution_count": null,
   "metadata": {
    "colab": {
     "base_uri": "https://localhost:8080/",
     "height": 597
    },
    "id": "WaA4ncVrhb06",
    "outputId": "d9872465-2956-4349-dd40-d3bb9fe3c85d"
   },
   "outputs": [],
   "source": [
    "#view a matrix of missingnes in dataframe\n",
    "msno.matrix(df)"
   ]
  },
  {
   "cell_type": "code",
   "execution_count": null,
   "metadata": {
    "colab": {
     "base_uri": "https://localhost:8080/"
    },
    "id": "PaY-mGU8NfGH",
    "outputId": "abd1a8bd-031a-45c7-d65f-e0887e78bf5f"
   },
   "outputs": [],
   "source": [
    "#inspect columns with high missingness\n",
    "df['Fireplace Qu'].value_counts(dropna=False)"
   ]
  },
  {
   "cell_type": "code",
   "execution_count": null,
   "metadata": {
    "colab": {
     "base_uri": "https://localhost:8080/"
    },
    "id": "JnFFVw7UPFdK",
    "outputId": "0df53a7f-fe5c-4f9f-9ff3-6919764cd8ba"
   },
   "outputs": [],
   "source": [
    "#inspect nature of missingness\n",
    "df['Fence'].value_counts(dropna=False)"
   ]
  },
  {
   "cell_type": "code",
   "execution_count": null,
   "metadata": {
    "id": "krxx07H0h40Q"
   },
   "outputs": [],
   "source": [
    "#drop columns with highest missingness\n",
    "df.drop(['Pool QC', 'Misc Feature', 'Alley', 'Fence', 'Fireplace Qu', 'Lot Frontage'], axis=1, inplace=True)"
   ]
  },
  {
   "cell_type": "code",
   "execution_count": null,
   "metadata": {
    "colab": {
     "base_uri": "https://localhost:8080/",
     "height": 597
    },
    "id": "j1hijwfFigZ7",
    "outputId": "cf7d018e-cb5a-408b-b51b-a1e251b24ec8"
   },
   "outputs": [],
   "source": [
    "#check matrix of missingness after dropping columns\n",
    "msno.matrix(df)"
   ]
  },
  {
   "cell_type": "code",
   "execution_count": null,
   "metadata": {
    "colab": {
     "base_uri": "https://localhost:8080/",
     "height": 808
    },
    "id": "KT9Y8xvilctU",
    "outputId": "e0364ce7-1d6b-49d3-9e6e-37f739590960"
   },
   "outputs": [],
   "source": [
    "#heatmap of correlation between columns and level of missingness\n",
    "msno.heatmap(df)"
   ]
  },
  {
   "cell_type": "markdown",
   "metadata": {
    "id": "xrXFqrwUQ0ia"
   },
   "source": [
    "## ***Step 4: Check for Outliers***"
   ]
  },
  {
   "cell_type": "code",
   "execution_count": null,
   "metadata": {
    "id": "u3Z4C6MNYeNT"
   },
   "outputs": [],
   "source": [
    "#select all numeric columns\n",
    "df_num = df.select_dtypes(include=['float64', 'int64'])"
   ]
  },
  {
   "cell_type": "code",
   "execution_count": null,
   "metadata": {
    "colab": {
     "base_uri": "https://localhost:8080/"
    },
    "id": "k9PtBE2tZhDn",
    "outputId": "b0f46669-e7db-461d-b905-b9e78f8f32c4"
   },
   "outputs": [],
   "source": [
    "#get number of columns in numeric subset\n",
    "df_num.shape"
   ]
  },
  {
   "cell_type": "code",
   "execution_count": null,
   "metadata": {
    "id": "uIA-FlHOajb3"
   },
   "outputs": [],
   "source": [
    "#drop ID and extra index column\n",
    "df_num = df_num.drop(['Order','PID'], axis=1)"
   ]
  },
  {
   "cell_type": "code",
   "execution_count": null,
   "metadata": {
    "colab": {
     "base_uri": "https://localhost:8080/"
    },
    "id": "WEsOP0xTbdp2",
    "outputId": "b7eb3b06-1741-4f36-f7d0-b7867518908a"
   },
   "outputs": [],
   "source": [
    "#confirm columns reduction\n",
    "df_num.shape"
   ]
  },
  {
   "cell_type": "code",
   "execution_count": null,
   "metadata": {
    "id": "lW6EU8-tQ7B7"
   },
   "outputs": [],
   "source": [
    "#remove outliers, 95% quantile\n",
    "Q1 = df.quantile(0.05)\n",
    "Q3 = df.quantile(0.95)\n",
    "IQR = Q3 - Q1\n",
    "df_num = df_num[~((df_num < (Q1 - 1.5 * IQR)) |(df_num > (Q3 + 1.5 * IQR))).any(axis=1)]"
   ]
  },
  {
   "cell_type": "code",
   "execution_count": null,
   "metadata": {
    "colab": {
     "base_uri": "https://localhost:8080/"
    },
    "id": "P6yDC4JsZrmH",
    "outputId": "24237d60-687b-476d-82d8-60cf39df7a28"
   },
   "outputs": [],
   "source": [
    "df_num.shape"
   ]
  },
  {
   "cell_type": "code",
   "execution_count": null,
   "metadata": {
    "colab": {
     "base_uri": "https://localhost:8080/"
    },
    "id": "aBzxpK7g2TaT",
    "outputId": "deca7257-0a23-4035-fb2e-f11c72ac134b"
   },
   "outputs": [],
   "source": [
    "#basic statistics\n",
    "df_num.describe()"
   ]
  },
  {
   "cell_type": "markdown",
   "metadata": {
    "id": "zTc4qV1GMbHq"
   },
   "source": [
    "## ***Univariate Analysis***- Target Variable\n"
   ]
  },
  {
   "cell_type": "code",
   "execution_count": null,
   "metadata": {
    "colab": {
     "base_uri": "https://localhost:8080/"
    },
    "id": "bkJY_LzqKl5v",
    "outputId": "f1e2eccf-90db-441a-8941-77e4f7104a8d"
   },
   "outputs": [],
   "source": [
    "#look at distribution of target variable\n",
    "plt.figure(figsize=(15,7))\n",
    "\n",
    "plt.subplot(1,2,1)\n",
    "plt.title('Sale Price Distribution Plot')\n",
    "sns.distplot(df.SalePrice)\n",
    "\n",
    "plt.subplot(1,2,2)\n",
    "plt.title('Sale Price Spread')\n",
    "sns.boxplot(y=df.SalePrice)\n",
    "\n",
    "plt.show()"
   ]
  },
  {
   "cell_type": "code",
   "execution_count": null,
   "metadata": {
    "colab": {
     "base_uri": "https://localhost:8080/"
    },
    "id": "DjTUCGH9K-b7",
    "outputId": "a5752a6a-e87c-4e0d-a1ed-6577944f4fe9"
   },
   "outputs": [],
   "source": [
    "df['SalePrice'].describe()"
   ]
  },
  {
   "cell_type": "markdown",
   "metadata": {
    "id": "w3sl9jYWt1s-"
   },
   "source": [
    "***significant right skew***"
   ]
  },
  {
   "cell_type": "code",
   "execution_count": null,
   "metadata": {
    "id": "jPcvygj3dEyf"
   },
   "outputs": [],
   "source": [
    "#id right-side outliers\n",
    "q = df[\"SalePrice\"].quantile(0.90)"
   ]
  },
  {
   "cell_type": "code",
   "execution_count": null,
   "metadata": {
    "colab": {
     "base_uri": "https://localhost:8080/"
    },
    "id": "SGXf6MgadH-L",
    "outputId": "c7c88aa1-d303-43a5-c830-73de966cab17"
   },
   "outputs": [],
   "source": [
    "#remove right-skew\n",
    "df_num_q = df_num[df[\"SalePrice\"] < q]"
   ]
  },
  {
   "cell_type": "code",
   "execution_count": null,
   "metadata": {
    "colab": {
     "base_uri": "https://localhost:8080/"
    },
    "id": "FwBZ6OCVddmD",
    "outputId": "bd2895a8-bc37-44d9-cb0f-00f7723fedec"
   },
   "outputs": [],
   "source": [
    "df_num_q['SalePrice'].describe()"
   ]
  },
  {
   "cell_type": "code",
   "execution_count": null,
   "metadata": {
    "colab": {
     "base_uri": "https://localhost:8080/"
    },
    "id": "9zQQWNfYde3B",
    "outputId": "242f6c54-5789-45cb-fff3-930a5b4008bd"
   },
   "outputs": [],
   "source": [
    "#generate distribution of treated target\n",
    "plt.figure(figsize=(15,7))\n",
    "\n",
    "plt.subplot(1,2,1)\n",
    "plt.title('Sale Price Distribution Plot')\n",
    "sns.distplot(df_num_q['SalePrice'])\n",
    "\n",
    "plt.subplot(1,2,2)\n",
    "plt.title('Sale Price Spread')\n",
    "sns.boxplot(y=df_num_q['SalePrice'])"
   ]
  },
  {
   "cell_type": "markdown",
   "metadata": {
    "id": "j-YGEy66aSe_"
   },
   "source": [
    "# ***Categorical Variables***"
   ]
  },
  {
   "cell_type": "code",
   "execution_count": null,
   "metadata": {
    "id": "tyxvMJPQa-0x"
   },
   "outputs": [],
   "source": [
    "#select categorical columns\n",
    "df_cat = df.select_dtypes(exclude=(\"number\"))"
   ]
  },
  {
   "cell_type": "code",
   "execution_count": null,
   "metadata": {
    "colab": {
     "base_uri": "https://localhost:8080/"
    },
    "id": "XfrSU6K7aZVU",
    "outputId": "38795c0e-d04f-4ff8-8550-f7f0e9244a6f"
   },
   "outputs": [],
   "source": [
    "#get size of categorical subset\n",
    "df_cat.shape"
   ]
  },
  {
   "cell_type": "code",
   "execution_count": null,
   "metadata": {
    "colab": {
     "base_uri": "https://localhost:8080/"
    },
    "id": "gVeqrDzVuhDE",
    "outputId": "2eed4896-5b28-4f55-b65b-a021b591615b"
   },
   "outputs": [],
   "source": [
    "#add the target column to categorical subset\n",
    "df_cat['SalePrice'] = df['SalePrice']"
   ]
  },
  {
   "cell_type": "code",
   "execution_count": null,
   "metadata": {
    "colab": {
     "base_uri": "https://localhost:8080/"
    },
    "id": "pz5MxFWToObB",
    "outputId": "7b628743-eb51-4048-d8f4-3098b7126619"
   },
   "outputs": [],
   "source": [
    "df_cat.info()"
   ]
  },
  {
   "cell_type": "code",
   "execution_count": null,
   "metadata": {
    "colab": {
     "base_uri": "https://localhost:8080/",
     "height": 260
    },
    "id": "kPdq_bp1bofq",
    "outputId": "88c3cfba-6cdb-4ac6-e231-2183e4888a35"
   },
   "outputs": [],
   "source": [
    "df_cat.head()"
   ]
  },
  {
   "cell_type": "code",
   "execution_count": null,
   "metadata": {
    "colab": {
     "base_uri": "https://localhost:8080/"
    },
    "id": "UoK_Gu8Iw2x3",
    "outputId": "fd3bfe25-9ade-4be2-d16d-f7459a9f1e67"
   },
   "outputs": [],
   "source": [
    "df_cat.columns"
   ]
  },
  {
   "cell_type": "markdown",
   "metadata": {
    "id": "BT_42BlnvZqv"
   },
   "source": [
    "### ***Distribution of Categorical Variables***"
   ]
  },
  {
   "cell_type": "code",
   "execution_count": null,
   "metadata": {
    "colab": {
     "base_uri": "https://localhost:8080/"
    },
    "id": "OhUj9lK5hzbS",
    "outputId": "35de50dd-6a53-4ce2-a62e-1f1005672821"
   },
   "outputs": [],
   "source": [
    "#look at the number of categories for each variable\n",
    "df_cat.nunique().sort_values(ascending=False)"
   ]
  },
  {
   "cell_type": "code",
   "execution_count": null,
   "metadata": {
    "colab": {
     "base_uri": "https://localhost:8080/",
     "height": 296
    },
    "id": "10gBhtceDrNl",
    "outputId": "f89b7cd3-9bab-4f99-96e3-2ce687d78099"
   },
   "outputs": [],
   "source": [
    "#distribution of MS Zoning category\n",
    "sns.countplot(x='MS Zoning', data=df_cat)"
   ]
  },
  {
   "cell_type": "code",
   "execution_count": null,
   "metadata": {
    "colab": {
     "base_uri": "https://localhost:8080/",
     "height": 296
    },
    "id": "W8yZMK7VBBxS",
    "outputId": "ed993e9f-ae7f-4f4b-a844-b4bf696245e1"
   },
   "outputs": [],
   "source": [
    "#distribution of categorical variables\n",
    "sns.countplot(x='Street', data=df_cat)"
   ]
  },
  {
   "cell_type": "code",
   "execution_count": null,
   "metadata": {
    "colab": {
     "base_uri": "https://localhost:8080/",
     "height": 296
    },
    "id": "Snnee5qpiW1v",
    "outputId": "3887bf20-5113-4333-8195-9bdbfce10908"
   },
   "outputs": [],
   "source": [
    "#distribution of Garage Finish category\n",
    "sns.countplot(x='Garage Finish', data=df_cat)"
   ]
  },
  {
   "cell_type": "code",
   "execution_count": null,
   "metadata": {
    "colab": {
     "base_uri": "https://localhost:8080/",
     "height": 296
    },
    "id": "iANuMiukm2bl",
    "outputId": "1e1ef760-0708-4735-dbc6-bf05d298ae3c"
   },
   "outputs": [],
   "source": [
    "sns.countplot(x='Bldg Type', data=df_cat)"
   ]
  },
  {
   "cell_type": "code",
   "execution_count": null,
   "metadata": {
    "colab": {
     "base_uri": "https://localhost:8080/",
     "height": 296
    },
    "id": "ATAtqZMGnDdR",
    "outputId": "a8349c23-3440-4e2d-a3f2-b2f06157b42a"
   },
   "outputs": [],
   "source": [
    "sns.countplot(x='Foundation', data=df_cat)"
   ]
  },
  {
   "cell_type": "markdown",
   "metadata": {
    "id": "iSlx3d79WVjJ"
   },
   "source": [
    "## ***Bivariate Analysis*** -Categorical Variable"
   ]
  },
  {
   "cell_type": "code",
   "execution_count": null,
   "metadata": {
    "colab": {
     "base_uri": "https://localhost:8080/",
     "height": 386
    },
    "id": "DuQ8fBieDN96",
    "outputId": "719f25ab-f56d-4fc8-a632-e88dce2d7fe5"
   },
   "outputs": [],
   "source": [
    "#association between Lot Shape and average SalePrice - barplot\n",
    "sns.catplot(x=\"Lot Shape\", y=\"SalePrice\", kind='bar', data=df_cat, height=5, aspect=2)"
   ]
  },
  {
   "cell_type": "code",
   "execution_count": null,
   "metadata": {
    "colab": {
     "base_uri": "https://localhost:8080/",
     "height": 386
    },
    "id": "ZWzGVPQQo0Ui",
    "outputId": "4cc83a53-ae36-48e5-a671-3bffcb6a249b"
   },
   "outputs": [],
   "source": [
    "#association between Lot Shape and average SalePrice- swarm plot\n",
    "sns.catplot(x=\"Lot Shape\", y=\"SalePrice\", data=df_cat, height=5, aspect=2)"
   ]
  },
  {
   "cell_type": "code",
   "execution_count": null,
   "metadata": {
    "colab": {
     "base_uri": "https://localhost:8080/",
     "height": 386
    },
    "id": "_cVjN8vcpAIv",
    "outputId": "c7f9c224-068c-4548-fd09-56ad1b257104"
   },
   "outputs": [],
   "source": [
    "sns.catplot(x='Fireplaces', y='SalePrice', kind='bar', height=5, aspect=3, data=df)"
   ]
  },
  {
   "cell_type": "code",
   "execution_count": null,
   "metadata": {
    "colab": {
     "base_uri": "https://localhost:8080/",
     "height": 386
    },
    "id": "kemdfQaMy5fW",
    "outputId": "756b7e1f-bafb-42e3-e07b-f70d07fb056c"
   },
   "outputs": [],
   "source": [
    "sns.catplot(x='Fireplaces', y='SalePrice', kind='point', height=5, aspect=3, data=df)"
   ]
  },
  {
   "cell_type": "code",
   "execution_count": null,
   "metadata": {
    "colab": {
     "base_uri": "https://localhost:8080/",
     "height": 386
    },
    "id": "kw-ttZ9AypKh",
    "outputId": "e84f83c9-e1d2-4887-c4f7-bf3a6e26239c"
   },
   "outputs": [],
   "source": [
    "sns.catplot(x='Fireplaces', y='SalePrice', kind='box', height=5, aspect=3, data=df)"
   ]
  },
  {
   "cell_type": "code",
   "execution_count": null,
   "metadata": {
    "colab": {
     "base_uri": "https://localhost:8080/",
     "height": 475
    },
    "id": "J1O3aqrsPMM8",
    "outputId": "90a91252-e77e-4912-ea76-d6c96318c262"
   },
   "outputs": [],
   "source": [
    "sns.catplot(x='Fireplaces', y='SalePrice', kind='swarm', height=5, aspect=3, s=3, data=df)"
   ]
  },
  {
   "cell_type": "markdown",
   "metadata": {
    "id": "uWH24yz8wSID"
   },
   "source": [
    "### ***Aggregation of categorical values with sale price***"
   ]
  },
  {
   "cell_type": "code",
   "execution_count": null,
   "metadata": {
    "colab": {
     "base_uri": "https://localhost:8080/",
     "height": 317
    },
    "id": "9Op8TdWApMfd",
    "outputId": "fe86c139-d6df-44a5-ab41-62618c772885"
   },
   "outputs": [],
   "source": [
    "byCond = df.groupby('Condition 1')['SalePrice'].mean().plot.bar()\n",
    "byCond"
   ]
  },
  {
   "cell_type": "code",
   "execution_count": null,
   "metadata": {
    "colab": {
     "base_uri": "https://localhost:8080/",
     "height": 480
    },
    "id": "pwZ61bEjxOed",
    "outputId": "30cde033-fa0f-4726-d8d3-947b4d87ac43"
   },
   "outputs": [],
   "source": [
    "byCond = df_cat.groupby(['Condition 1', 'Central Air'])['SalePrice'].mean().unstack().plot.bar(figsize=(10, 7))\n",
    "byCond"
   ]
  },
  {
   "cell_type": "code",
   "execution_count": null,
   "metadata": {
    "colab": {
     "base_uri": "https://localhost:8080/",
     "height": 513
    },
    "id": "jhTbGPL39PFZ",
    "outputId": "d49090e6-c2fd-405f-a063-84c62625bb48"
   },
   "outputs": [],
   "source": [
    "#categorical Steet type and Saleprice catplot -strip\n",
    "g = sns.catplot(x=\"Street\", y=\"SalePrice\", data=df, height=7, aspect=1.5)"
   ]
  },
  {
   "cell_type": "code",
   "execution_count": null,
   "metadata": {
    "colab": {
     "base_uri": "https://localhost:8080/"
    },
    "id": "ujYr7IKX-1G4",
    "outputId": "fa1c9ef8-41c4-409a-bc89-6a50e808da21"
   },
   "outputs": [],
   "source": [
    "stats.ttest_ind(df[df['Street']=='Pave']['SalePrice'], df[df['Street']=='Grvl']['SalePrice'])"
   ]
  },
  {
   "cell_type": "code",
   "execution_count": null,
   "metadata": {
    "colab": {
     "base_uri": "https://localhost:8080/",
     "height": 513
    },
    "id": "pJGqiFz198go",
    "outputId": "99614b28-ff1c-4e5c-e2f9-e52d5528a62d"
   },
   "outputs": [],
   "source": [
    "g = sns.catplot(x=\"Fireplaces\", y=\"SalePrice\", data=df, height=7, aspect=1.5)"
   ]
  },
  {
   "cell_type": "code",
   "execution_count": null,
   "metadata": {
    "colab": {
     "base_uri": "https://localhost:8080/",
     "height": 308
    },
    "id": "tGQPPKzSCO4n",
    "outputId": "cb3b1ee0-f7e1-4a67-ed72-0e19482ccbcd"
   },
   "outputs": [],
   "source": [
    "df_cat.groupby('Garage Finish')['SalePrice'].mean().plot.bar()"
   ]
  },
  {
   "cell_type": "code",
   "execution_count": null,
   "metadata": {
    "colab": {
     "base_uri": "https://localhost:8080/",
     "height": 354
    },
    "id": "QSLzO5ZwqtIj",
    "outputId": "d4e3f429-3af5-411a-8de6-ce2ddcd7b306"
   },
   "outputs": [],
   "source": [
    "df_cat.groupby(['Garage Finish', 'House Style'])['SalePrice'].mean().plot.bar()"
   ]
  },
  {
   "cell_type": "code",
   "execution_count": null,
   "metadata": {
    "colab": {
     "base_uri": "https://localhost:8080/",
     "height": 484
    },
    "id": "TS8VYaqtq7X5",
    "outputId": "dfe67aff-9c8c-4114-f760-9aac2dc093f4"
   },
   "outputs": [],
   "source": [
    "df_cat.groupby(['House Style','Garage Finish'])['SalePrice'].mean().unstack().plot.bar(figsize=(15, 7))"
   ]
  },
  {
   "cell_type": "code",
   "execution_count": null,
   "metadata": {
    "colab": {
     "base_uri": "https://localhost:8080/",
     "height": 513
    },
    "id": "YXg_eR4e-Dct",
    "outputId": "11fdec49-4451-4905-cb95-f1125f0596a4"
   },
   "outputs": [],
   "source": [
    "g = sns.catplot(x=\"Sale Condition\", y=\"SalePrice\", data=df, height=7, aspect=1.5)"
   ]
  },
  {
   "cell_type": "code",
   "execution_count": null,
   "metadata": {
    "colab": {
     "base_uri": "https://localhost:8080/",
     "height": 567
    },
    "id": "rVJHyThQ-Qji",
    "outputId": "7b8fd69a-9a12-49b7-8136-f90895ec5734"
   },
   "outputs": [],
   "source": [
    "\n",
    "g = sns.catplot(x=\"BsmtFin Type 2\", y=\"SalePrice\", data=df, kind='swarm', height=7, aspect=1.5)"
   ]
  },
  {
   "cell_type": "code",
   "execution_count": null,
   "metadata": {
    "colab": {
     "base_uri": "https://localhost:8080/",
     "height": 482
    },
    "id": "PlKVwfRc7awP",
    "outputId": "11d62079-77b7-4f42-b64b-b3c7a9c84be2"
   },
   "outputs": [],
   "source": [
    "df.groupby('Sale Type')['SalePrice'].mean().sort_values(ascending=False).plot.bar(figsize=(10, 7))"
   ]
  },
  {
   "cell_type": "markdown",
   "metadata": {
    "id": "mym9CLbM0apn"
   },
   "source": [
    "## ***Distribution of Numeric Variables***"
   ]
  },
  {
   "cell_type": "code",
   "execution_count": null,
   "metadata": {
    "id": "JHq70uvY0deu"
   },
   "outputs": [],
   "source": [
    "df_num = df.select_dtypes(\"number\")"
   ]
  },
  {
   "cell_type": "code",
   "execution_count": null,
   "metadata": {
    "colab": {
     "base_uri": "https://localhost:8080/",
     "height": 277
    },
    "id": "gtZpN00E6HHb",
    "outputId": "8124c7e4-60fa-4896-9d0b-7f1512a7eb4a"
   },
   "outputs": [],
   "source": [
    "df_num.head()"
   ]
  },
  {
   "cell_type": "code",
   "execution_count": null,
   "metadata": {
    "colab": {
     "base_uri": "https://localhost:8080/"
    },
    "id": "Q5JzxC5F6Kwa",
    "outputId": "2e986708-fe91-4094-e4fc-63936581879c"
   },
   "outputs": [],
   "source": [
    "df_num.info()"
   ]
  },
  {
   "cell_type": "code",
   "execution_count": null,
   "metadata": {
    "colab": {
     "base_uri": "https://localhost:8080/",
     "height": 1000
    },
    "id": "ktgLSs0o8Bhp",
    "outputId": "2a5c3347-7e8c-4024-ba5c-00e25c553705"
   },
   "outputs": [],
   "source": [
    "df_num.corr()"
   ]
  },
  {
   "cell_type": "code",
   "execution_count": null,
   "metadata": {
    "colab": {
     "base_uri": "https://localhost:8080/",
     "height": 830
    },
    "id": "JFtp4N-sbI-e",
    "outputId": "0ab19749-6e07-4ba4-d6bd-df4be030aa26"
   },
   "outputs": [],
   "source": [
    "fig, ax = plt.subplots(figsize=(10,14))\n",
    "price_corr = df_num.corr()[['SalePrice']].sort_values(by='SalePrice', ascending=False)\n",
    "sns.heatmap(price_corr, annot=True, ax=ax) "
   ]
  },
  {
   "cell_type": "code",
   "execution_count": null,
   "metadata": {
    "colab": {
     "base_uri": "https://localhost:8080/",
     "height": 362
    },
    "id": "8FsL1o5iI1V6",
    "outputId": "a9a0b1e9-fae1-4498-f9b2-693399f6ea1e"
   },
   "outputs": [],
   "source": [
    "price_corr[:10]"
   ]
  },
  {
   "cell_type": "code",
   "execution_count": null,
   "metadata": {
    "id": "-61WR8niI6CO"
   },
   "outputs": [],
   "source": [
    "hi_corr = price_corr[:10]"
   ]
  },
  {
   "cell_type": "code",
   "execution_count": null,
   "metadata": {
    "colab": {
     "base_uri": "https://localhost:8080/",
     "height": 517
    },
    "id": "BVACyteoJgJK",
    "outputId": "b8582cc1-6126-480a-9ea9-c1e2a2bc93b4"
   },
   "outputs": [],
   "source": [
    "hi_corr.plot.bar(figsize=(15, 7))"
   ]
  },
  {
   "cell_type": "code",
   "execution_count": null,
   "metadata": {
    "colab": {
     "base_uri": "https://localhost:8080/",
     "height": 458
    },
    "id": "jQbqM6JMmooS",
    "outputId": "1eeea118-9498-4d06-9fa7-dd7b2d6618a4"
   },
   "outputs": [],
   "source": [
    "plt.figure(figsize=(20,7))\n",
    "\n",
    "plt.subplot(1,3,1)\n",
    "plt.title('Basement SquareFeet')\n",
    "sns.histplot(df['Total Bsmt SF'], kde=True)\n",
    "\n",
    "plt.subplot(1,3,2)\n",
    "plt.title('Car length Distribution')\n",
    "sns.histplot(df['Gr Liv Area'], kde=True)\n",
    "\n",
    "plt.subplot(1,3,3)\n",
    "plt.title('Wheelbase Distribution')\n",
    "sns.histplot(df['1st Flr SF'], kde=True)\n",
    "\n",
    "plt.show()"
   ]
  },
  {
   "cell_type": "code",
   "execution_count": null,
   "metadata": {
    "colab": {
     "base_uri": "https://localhost:8080/",
     "height": 458
    },
    "id": "JVqKsDn2KsfR",
    "outputId": "9611c6f0-7d0b-45af-bd4a-4b5f4b512a46"
   },
   "outputs": [],
   "source": [
    "plt.figure(figsize=(20,7))\n",
    "\n",
    "plt.subplot(1,3,1)\n",
    "plt.title('Year Home Remodeled')\n",
    "sns.histplot(df['Year Remod/Add'], kde=True)\n",
    "\n",
    "plt.subplot(1,3,2)\n",
    "plt.title('Year Built')\n",
    "sns.histplot(df['Year Built'], kde=True)\n",
    "\n",
    "plt.subplot(1,3,3)\n",
    "plt.title('Number of Full Baths')\n",
    "sns.histplot(df['Full Bath'], kde=True)\n",
    "\n",
    "plt.show()"
   ]
  },
  {
   "cell_type": "code",
   "execution_count": null,
   "metadata": {
    "colab": {
     "base_uri": "https://localhost:8080/"
    },
    "id": "Eme31N4HoAOF",
    "outputId": "362be4cc-5cfb-467c-d84e-a120ef10d28a"
   },
   "outputs": [],
   "source": [
    "df_num['YearGroup'] = pd.cut(df_num['Year Built'], [0, 1900, 1920, 1940, 1960, 1980, 2000, 2100], labels=['<1900', '<1920', '<1940', '<1960', '<1980', '<2000', '<2100'])\n"
   ]
  },
  {
   "cell_type": "code",
   "execution_count": null,
   "metadata": {
    "id": "WYYf9ppxLSOB"
   },
   "outputs": [],
   "source": [
    "byYear = df_num.groupby(['YearGroup','Full Bath'])['SalePrice'].mean()"
   ]
  },
  {
   "cell_type": "code",
   "execution_count": null,
   "metadata": {
    "colab": {
     "base_uri": "https://localhost:8080/",
     "height": 299
    },
    "id": "DYUI-zEqLIdi",
    "outputId": "4663a638-ebda-401d-e241-e30283d8d758"
   },
   "outputs": [],
   "source": [
    "byYear.unstack()"
   ]
  },
  {
   "cell_type": "code",
   "execution_count": null,
   "metadata": {
    "colab": {
     "base_uri": "https://localhost:8080/",
     "height": 484
    },
    "id": "R0FuqsiRNBK8",
    "outputId": "949d54a8-7550-4a57-c972-d33a82edb7f7"
   },
   "outputs": [],
   "source": [
    "byYear.unstack().plot.bar(figsize=(20, 7))"
   ]
  },
  {
   "cell_type": "code",
   "execution_count": null,
   "metadata": {
    "colab": {
     "base_uri": "https://localhost:8080/",
     "height": 351
    },
    "id": "3q3WBaKvMQa7",
    "outputId": "c055da74-4d6e-4bf4-9a09-c8171f8a340a"
   },
   "outputs": [],
   "source": [
    "plt.figure(figsize = (15,5))\n",
    "sns.heatmap(byYear.unstack())"
   ]
  },
  {
   "cell_type": "code",
   "execution_count": null,
   "metadata": {
    "colab": {
     "base_uri": "https://localhost:8080/",
     "height": 532
    },
    "id": "Q-8NIRLoon1P",
    "outputId": "dec782ff-b9fc-407e-e811-6324e4dc9e43"
   },
   "outputs": [],
   "source": [
    "df_num['Year Built'].value_counts().plot.bar(figsize=(10, 7))"
   ]
  },
  {
   "cell_type": "code",
   "execution_count": null,
   "metadata": {
    "id": "Klu5XfvTpxHA"
   },
   "outputs": [],
   "source": [
    "df['YearCount'] = df['Year Built'].map(df['Year Built'].value_counts(bins=12))"
   ]
  },
  {
   "cell_type": "code",
   "execution_count": null,
   "metadata": {
    "colab": {
     "base_uri": "https://localhost:8080/"
    },
    "id": "kMywKNrzrBQ0",
    "outputId": "2cd800d9-ddde-49e0-c711-9363d057e16e"
   },
   "outputs": [],
   "source": [
    "df_num_year = df_num.groupby(['Year Built','Full Bath'])['SalePrice'].mean()\n",
    "df_num_year"
   ]
  },
  {
   "cell_type": "code",
   "execution_count": null,
   "metadata": {
    "colab": {
     "base_uri": "https://localhost:8080/",
     "height": 386
    },
    "id": "SUtPFYg1Ze1z",
    "outputId": "9dc65b37-bb80-43d3-f25b-810f131e994f"
   },
   "outputs": [],
   "source": [
    "sns.catplot(x='Full Bath', y='SalePrice', kind='bar', hue='Fireplaces', data=df, height=5, aspect=2)"
   ]
  },
  {
   "cell_type": "code",
   "execution_count": null,
   "metadata": {
    "colab": {
     "base_uri": "https://localhost:8080/",
     "height": 480
    },
    "id": "EKoLMKvvaJVo",
    "outputId": "d467c8fc-95ca-4f2e-ceca-e7661390d5b0"
   },
   "outputs": [],
   "source": [
    "df.groupby(['Condition 1', 'Full Bath'])['SalePrice'].mean().unstack().plot.bar(figsize=(20, 7))"
   ]
  },
  {
   "cell_type": "code",
   "execution_count": null,
   "metadata": {
    "colab": {
     "base_uri": "https://localhost:8080/",
     "height": 347
    },
    "id": "yAfEdtFzL3Ng",
    "outputId": "8d672977-193e-4783-885f-1a19c970172d"
   },
   "outputs": [],
   "source": [
    "df.groupby(['Fireplaces', 'Full Bath'])['SalePrice'].mean().unstack().plot.bar(figsize=(10,5))"
   ]
  },
  {
   "cell_type": "code",
   "execution_count": null,
   "metadata": {},
   "outputs": [],
   "source": []
  }
 ],
 "metadata": {
  "colab": {
   "name": "EDA_for_ML.ipynb",
   "provenance": []
  },
  "kernelspec": {
   "display_name": "Python 3",
   "language": "python",
   "name": "python3"
  },
  "language_info": {
   "codemirror_mode": {
    "name": "ipython",
    "version": 3
   },
   "file_extension": ".py",
   "mimetype": "text/x-python",
   "name": "python",
   "nbconvert_exporter": "python",
   "pygments_lexer": "ipython3",
   "version": "3.8.5"
  },
  "varInspector": {
   "cols": {
    "lenName": 16,
    "lenType": 16,
    "lenVar": 40
   },
   "kernels_config": {
    "python": {
     "delete_cmd_postfix": "",
     "delete_cmd_prefix": "del ",
     "library": "var_list.py",
     "varRefreshCmd": "print(var_dic_list())"
    },
    "r": {
     "delete_cmd_postfix": ") ",
     "delete_cmd_prefix": "rm(",
     "library": "var_list.r",
     "varRefreshCmd": "cat(var_dic_list()) "
    }
   },
   "types_to_exclude": [
    "module",
    "function",
    "builtin_function_or_method",
    "instance",
    "_Feature"
   ],
   "window_display": false
  }
 },
 "nbformat": 4,
 "nbformat_minor": 1
}
